{
 "cells": [
  {
   "cell_type": "markdown",
   "id": "364d8fc5",
   "metadata": {},
   "source": [
    "### Array by array Module"
   ]
  },
  {
   "cell_type": "code",
   "execution_count": 2,
   "id": "3fb75832",
   "metadata": {},
   "outputs": [
    {
     "name": "stdout",
     "output_type": "stream",
     "text": [
      "array('i')\n"
     ]
    }
   ],
   "source": [
    "import array\n",
    "\n",
    "my_array=array.array('i')\n",
    "print(my_array)"
   ]
  },
  {
   "cell_type": "code",
   "execution_count": 3,
   "id": "52082e5d",
   "metadata": {},
   "outputs": [
    {
     "name": "stdout",
     "output_type": "stream",
     "text": [
      "array('i', [1, 2, 3, 4])\n"
     ]
    }
   ],
   "source": [
    "my_array=array.array('i',[1,2,3,4])\n",
    "print(my_array)"
   ]
  },
  {
   "cell_type": "markdown",
   "id": "011a1ff2",
   "metadata": {},
   "source": [
    "### Array by Numpy"
   ]
  },
  {
   "cell_type": "code",
   "execution_count": null,
   "id": "e36d1b04",
   "metadata": {},
   "outputs": [],
   "source": []
  },
  {
   "cell_type": "code",
   "execution_count": 7,
   "id": "0bbeb211",
   "metadata": {},
   "outputs": [
    {
     "data": {
      "text/plain": [
       "array([], dtype=int64)"
      ]
     },
     "execution_count": 7,
     "metadata": {},
     "output_type": "execute_result"
    }
   ],
   "source": [
    "import numpy as np\n",
    "\n",
    "my_array=np.array([],dtype=int)\n",
    "my_array"
   ]
  },
  {
   "cell_type": "code",
   "execution_count": 9,
   "id": "0f110171",
   "metadata": {},
   "outputs": [
    {
     "data": {
      "text/plain": [
       "array([ 1, 23,  5,  5])"
      ]
     },
     "execution_count": 9,
     "metadata": {},
     "output_type": "execute_result"
    }
   ],
   "source": [
    "my_array=np.array([1,23,5,5])\n",
    "my_array"
   ]
  },
  {
   "cell_type": "markdown",
   "id": "09e4ca57",
   "metadata": {},
   "source": [
    "### Insertion of elements in Array"
   ]
  },
  {
   "cell_type": "code",
   "execution_count": 11,
   "id": "e150a0db",
   "metadata": {},
   "outputs": [
    {
     "name": "stdout",
     "output_type": "stream",
     "text": [
      "array('i', [1, 2, 23, 6])\n",
      "array('i', [0, 1, 2, 23, 6])\n"
     ]
    }
   ],
   "source": [
    "import array\n",
    "arr=array.array('i',[1,2,23,6])\n",
    "print(arr)\n",
    "arr.insert(0,0)\n",
    "print(arr)"
   ]
  },
  {
   "cell_type": "code",
   "execution_count": 13,
   "id": "5fac25ad",
   "metadata": {},
   "outputs": [
    {
     "name": "stdout",
     "output_type": "stream",
     "text": [
      "array('i', [1, 2, 23, 6])\n",
      "array('i', [1, 2, 23, 6, 0])\n"
     ]
    }
   ],
   "source": [
    "#insertion at any index greater than array may result in insertion at last index.\n",
    "arr=array.array('i',[1,2,23,6])\n",
    "print(arr)\n",
    "arr.insert(899,0)\n",
    "print(arr)"
   ]
  },
  {
   "cell_type": "markdown",
   "id": "cfe53b96",
   "metadata": {},
   "source": [
    "### Traversal operation"
   ]
  },
  {
   "cell_type": "code",
   "execution_count": 14,
   "id": "3f2f9545",
   "metadata": {},
   "outputs": [],
   "source": [
    "from array import *\n",
    "\n",
    "arr1=array('i',[1,2,3,5])\n",
    "arr2=array('d',[1.2,3.4])"
   ]
  },
  {
   "cell_type": "code",
   "execution_count": 17,
   "id": "c0e7245d",
   "metadata": {},
   "outputs": [
    {
     "name": "stdout",
     "output_type": "stream",
     "text": [
      "1 2 3 5 "
     ]
    }
   ],
   "source": [
    "for ele in arr1:\n",
    "    print(ele,end=\" \")"
   ]
  },
  {
   "cell_type": "code",
   "execution_count": 18,
   "id": "261911a5",
   "metadata": {},
   "outputs": [
    {
     "ename": "IndexError",
     "evalue": "array index out of range",
     "output_type": "error",
     "traceback": [
      "\u001b[1;31m---------------------------------------------------------------------------\u001b[0m",
      "\u001b[1;31mIndexError\u001b[0m                                Traceback (most recent call last)",
      "Cell \u001b[1;32mIn[18], line 1\u001b[0m\n\u001b[1;32m----> 1\u001b[0m arr1[\u001b[38;5;241m9\u001b[39m]\n",
      "\u001b[1;31mIndexError\u001b[0m: array index out of range"
     ]
    }
   ],
   "source": [
    "arr1[9]"
   ]
  },
  {
   "cell_type": "code",
   "execution_count": 19,
   "id": "22d323c0",
   "metadata": {},
   "outputs": [
    {
     "data": {
      "text/plain": [
       "1"
      ]
     },
     "execution_count": 19,
     "metadata": {},
     "output_type": "execute_result"
    }
   ],
   "source": [
    "arr1[0]"
   ]
  },
  {
   "cell_type": "markdown",
   "id": "a334a8a4",
   "metadata": {},
   "source": [
    "### Searching In Array"
   ]
  },
  {
   "cell_type": "code",
   "execution_count": 27,
   "id": "2826210d",
   "metadata": {},
   "outputs": [],
   "source": [
    "from array import *\n",
    "arr1=array('i',[1,2,4,5])\n",
    "\n",
    "def linear_search(arr1,target):\n",
    "    for index,ele in enumerate(arr1):\n",
    "        if(target == ele):\n",
    "            return f\"element found at indxe {index}\"\n",
    "    return -1\n"
   ]
  },
  {
   "cell_type": "code",
   "execution_count": 29,
   "id": "faeade61",
   "metadata": {},
   "outputs": [
    {
     "data": {
      "text/plain": [
       "-1"
      ]
     },
     "execution_count": 29,
     "metadata": {},
     "output_type": "execute_result"
    }
   ],
   "source": [
    "linear_search(arr1,0)"
   ]
  },
  {
   "cell_type": "markdown",
   "id": "81fa5313",
   "metadata": {},
   "source": [
    "### Deleting elements in array"
   ]
  },
  {
   "cell_type": "code",
   "execution_count": 30,
   "id": "dd0e3cf9",
   "metadata": {},
   "outputs": [
    {
     "name": "stdout",
     "output_type": "stream",
     "text": [
      "array('i', [1, 2, 4, 5])\n"
     ]
    }
   ],
   "source": [
    "\n",
    "print(arr1)"
   ]
  },
  {
   "cell_type": "code",
   "execution_count": null,
   "id": "3d51aada",
   "metadata": {},
   "outputs": [],
   "source": [
    "arr1.remove(5)"
   ]
  },
  {
   "cell_type": "code",
   "execution_count": 32,
   "id": "a75f74cd",
   "metadata": {},
   "outputs": [
    {
     "data": {
      "text/plain": [
       "array('i', [1, 2, 4])"
      ]
     },
     "execution_count": 32,
     "metadata": {},
     "output_type": "execute_result"
    }
   ],
   "source": [
    "arr1"
   ]
  },
  {
   "cell_type": "markdown",
   "id": "679adfc5",
   "metadata": {},
   "source": [
    "### Array Practice"
   ]
  },
  {
   "cell_type": "code",
   "execution_count": 34,
   "id": "c59943f4",
   "metadata": {},
   "outputs": [],
   "source": [
    "from array import *"
   ]
  },
  {
   "cell_type": "code",
   "execution_count": 37,
   "id": "e2a01f05",
   "metadata": {},
   "outputs": [],
   "source": [
    "#1 Apppend->Adding elemnt to end of arary\n",
    "arr1=array('i',[1,2,3,3,47])\n",
    "arr1.append(10)"
   ]
  },
  {
   "cell_type": "code",
   "execution_count": 40,
   "id": "2cd83b78",
   "metadata": {},
   "outputs": [
    {
     "name": "stdout",
     "output_type": "stream",
     "text": [
      "array('i', [1, 2, 3, 3, 47])\n",
      "array('i', [1, 2, 3, 3, 47, 10])\n"
     ]
    }
   ],
   "source": [
    "#2 Extend:-> for adding one arary to other\n",
    "arr1=array('i',[1,2,3,3,47])\n",
    "arr2=array('i',[10])\n",
    "print(arr1)\n",
    "arr1.extend(arr2)\n",
    "print(arr1)"
   ]
  },
  {
   "cell_type": "code",
   "execution_count": 42,
   "id": "9a345fe5",
   "metadata": {},
   "outputs": [
    {
     "data": {
      "text/plain": [
       "array('i', [1, 2, 3, 3, 47, 1, 23, 4])"
      ]
     },
     "execution_count": 42,
     "metadata": {},
     "output_type": "execute_result"
    }
   ],
   "source": [
    "#3 fromlist for adding list to array\n",
    "arr1=array('i',[1,2,3,3,47])\n",
    "lst=[1,23,4]\n",
    "\n",
    "arr1.fromlist(lst)\n",
    "arr1"
   ]
  },
  {
   "cell_type": "code",
   "execution_count": null,
   "id": "6a15340f",
   "metadata": {},
   "outputs": [],
   "source": [
    "#4 remove \n",
    "arr1=array('i',[1,2,3,3,47])"
   ]
  },
  {
   "cell_type": "code",
   "execution_count": 44,
   "id": "f00ebc0e",
   "metadata": {},
   "outputs": [
    {
     "name": "stdout",
     "output_type": "stream",
     "text": [
      "array('i', [1, 2, 3, 3, 47])\n",
      "array('i', [1, 2, 3, 3])\n"
     ]
    }
   ],
   "source": [
    "#5 POP->removing last element by pop method \n",
    "arr1=array('i',[1,2,3,3,47])\n",
    "print(arr1)\n",
    "arr1.pop()\n",
    "print(arr1)"
   ]
  },
  {
   "cell_type": "code",
   "execution_count": 45,
   "id": "6ca3f5a0",
   "metadata": {},
   "outputs": [
    {
     "name": "stdout",
     "output_type": "stream",
     "text": [
      "array('i', [1, 2, 3, 3, 47])\n",
      "array('i', [47, 3, 3, 2, 1])\n"
     ]
    }
   ],
   "source": [
    "#index->finding any element by index method\n",
    "arr1=array('i',[1,2,3,3,47])\n",
    "print(arr1)\n",
    "arr1.reverse()\n",
    "print(arr1)"
   ]
  },
  {
   "cell_type": "code",
   "execution_count": 46,
   "id": "6f7b7e5e",
   "metadata": {},
   "outputs": [
    {
     "data": {
      "text/plain": [
       "(1593827334096, 5)"
      ]
     },
     "execution_count": 46,
     "metadata": {},
     "output_type": "execute_result"
    }
   ],
   "source": [
    "#get array buffer information of element through buffer_info() method\n",
    "arr1.buffer_info()"
   ]
  },
  {
   "cell_type": "code",
   "execution_count": 50,
   "id": "d2cee3e7",
   "metadata": {},
   "outputs": [
    {
     "data": {
      "text/plain": [
       "2"
      ]
     },
     "execution_count": 50,
     "metadata": {},
     "output_type": "execute_result"
    }
   ],
   "source": [
    "#count\n",
    "arr1.count(3)"
   ]
  },
  {
   "cell_type": "code",
   "execution_count": 52,
   "id": "8c38b95e",
   "metadata": {},
   "outputs": [
    {
     "name": "stdout",
     "output_type": "stream",
     "text": [
      "array('i', [1, 2, 3, 3, 47])\n",
      "[1, 2, 3, 3, 47]\n",
      "<class 'list'>\n"
     ]
    }
   ],
   "source": [
    "#converting array to python list\n",
    "arr1=array('i',[1,2,3,3,47])\n",
    "print(arr1)\n",
    "\n",
    "print(arr1.tolist())\n",
    "print(type(arr1.tolist()))\n"
   ]
  },
  {
   "cell_type": "code",
   "execution_count": 55,
   "id": "0d9dded8",
   "metadata": {},
   "outputs": [
    {
     "name": "stdout",
     "output_type": "stream",
     "text": [
      "array('i', [3])\n"
     ]
    }
   ],
   "source": [
    "#Slicing Array\n",
    "arr1=array('i',[1,2,3,3,47])\n",
    "print(arr1[2:3])\n"
   ]
  },
  {
   "cell_type": "code",
   "execution_count": 59,
   "id": "fe42a68b",
   "metadata": {},
   "outputs": [
    {
     "name": "stdout",
     "output_type": "stream",
     "text": [
      "array('i', [1, 2, 3, 3])\n"
     ]
    }
   ],
   "source": [
    "print(arr1[:-1])"
   ]
  },
  {
   "cell_type": "code",
   "execution_count": 60,
   "id": "6c1851ac",
   "metadata": {},
   "outputs": [
    {
     "name": "stdout",
     "output_type": "stream",
     "text": [
      "array('i', [47, 3, 3, 2, 1])\n"
     ]
    }
   ],
   "source": [
    "print(arr1[::-1])"
   ]
  },
  {
   "cell_type": "code",
   "execution_count": null,
   "id": "4c1d079c",
   "metadata": {},
   "outputs": [],
   "source": []
  },
  {
   "cell_type": "code",
   "execution_count": null,
   "id": "63e14822",
   "metadata": {},
   "outputs": [],
   "source": []
  },
  {
   "cell_type": "code",
   "execution_count": null,
   "id": "70dd4b8a",
   "metadata": {},
   "outputs": [],
   "source": []
  },
  {
   "cell_type": "code",
   "execution_count": null,
   "id": "22b9b24c",
   "metadata": {},
   "outputs": [],
   "source": []
  },
  {
   "cell_type": "code",
   "execution_count": null,
   "id": "cab4b9e9",
   "metadata": {},
   "outputs": [],
   "source": []
  },
  {
   "cell_type": "code",
   "execution_count": null,
   "id": "091cbf68",
   "metadata": {},
   "outputs": [],
   "source": []
  },
  {
   "cell_type": "code",
   "execution_count": null,
   "id": "5e3935a4",
   "metadata": {},
   "outputs": [],
   "source": []
  },
  {
   "cell_type": "code",
   "execution_count": null,
   "id": "691e3d15",
   "metadata": {},
   "outputs": [],
   "source": []
  },
  {
   "cell_type": "code",
   "execution_count": null,
   "id": "4b0aebfc",
   "metadata": {},
   "outputs": [],
   "source": []
  },
  {
   "cell_type": "code",
   "execution_count": null,
   "id": "4856a7cb",
   "metadata": {},
   "outputs": [],
   "source": []
  },
  {
   "cell_type": "code",
   "execution_count": null,
   "id": "960b7f5f",
   "metadata": {},
   "outputs": [],
   "source": []
  },
  {
   "cell_type": "code",
   "execution_count": null,
   "id": "7ad9b625",
   "metadata": {},
   "outputs": [],
   "source": []
  },
  {
   "cell_type": "code",
   "execution_count": null,
   "metadata": {},
   "outputs": [],
   "source": []
  },
  {
   "cell_type": "code",
   "execution_count": null,
   "metadata": {},
   "outputs": [],
   "source": []
  },
  {
   "cell_type": "code",
   "execution_count": null,
   "id": "963f8cf3",
   "metadata": {},
   "outputs": [],
   "source": []
  },
  {
   "cell_type": "code",
   "execution_count": null,
   "id": "8719cd70",
   "metadata": {},
   "outputs": [],
   "source": []
  }
 ],
 "metadata": {
  "kernelspec": {
   "display_name": "base",
   "language": "python",
   "name": "python3"
  },
  "language_info": {
   "codemirror_mode": {
    "name": "ipython",
    "version": 3
   },
   "file_extension": ".py",
   "mimetype": "text/x-python",
   "name": "python",
   "nbconvert_exporter": "python",
   "pygments_lexer": "ipython3",
   "version": "3.13.5"
  }
 },
 "nbformat": 4,
 "nbformat_minor": 5
}
