{
 "cells": [
  {
   "cell_type": "markdown",
   "id": "9ff42f4d",
   "metadata": {},
   "source": [
    "### Top Down Dp"
   ]
  },
  {
   "cell_type": "code",
   "execution_count": 9,
   "id": "c93b3f68",
   "metadata": {},
   "outputs": [],
   "source": [
    "#fibonacci series\n",
    "\n",
    "def fibo(n,memo):\n",
    "    if n==1:\n",
    "        return 0\n",
    "    if n==2:\n",
    "        return 1\n",
    "    \n",
    "    if n  in memo:\n",
    "        memo[n]\n",
    "    \n",
    "    memo[n]=fibo(n-1,memo)+fibo(n-2,memo)\n",
    "    \n",
    "    return memo[n]\n",
    "    "
   ]
  },
  {
   "cell_type": "code",
   "execution_count": 11,
   "id": "b055e041",
   "metadata": {},
   "outputs": [
    {
     "name": "stdout",
     "output_type": "stream",
     "text": [
      "2\n"
     ]
    }
   ],
   "source": [
    "d={}\n",
    "print(fibo(4,d))"
   ]
  },
  {
   "cell_type": "markdown",
   "id": "bc5cc84b",
   "metadata": {},
   "source": [
    "### bottom UP Dp"
   ]
  },
  {
   "cell_type": "code",
   "execution_count": 14,
   "id": "44b70784",
   "metadata": {},
   "outputs": [],
   "source": [
    "def bu_dp(n):\n",
    "    tt=[0,1]\n",
    "    for i in range(2,n+1):\n",
    "        tt.append(tt[i-1]+tt[i-2])\n",
    "    \n",
    "    return tt[n]"
   ]
  },
  {
   "cell_type": "code",
   "execution_count": 15,
   "id": "62a9c225",
   "metadata": {},
   "outputs": [
    {
     "data": {
      "text/plain": [
       "2"
      ]
     },
     "execution_count": 15,
     "metadata": {},
     "output_type": "execute_result"
    }
   ],
   "source": [
    "bu_dp(3)"
   ]
  },
  {
   "cell_type": "code",
   "execution_count": 16,
   "id": "0a8f5896",
   "metadata": {},
   "outputs": [],
   "source": [
    "#optimal substructure properry\n",
    "#Overlapping Subproblem Property"
   ]
  },
  {
   "cell_type": "markdown",
   "id": "bf7020a6",
   "metadata": {},
   "source": [
    "### factorisation problem"
   ]
  },
  {
   "cell_type": "code",
   "execution_count": 31,
   "id": "143f35ea",
   "metadata": {},
   "outputs": [],
   "source": [
    "def f(n,memo,arr):\n",
    "    if n==0:\n",
    "         return 1\n",
    "    if n<0:\n",
    "         return 0\n",
    "    if n in memo:\n",
    "         return memo[n]\n",
    "    \n",
    "    count=0\n",
    "    for num in arr:\n",
    "        count=count+f(n-num,memo,arr)\n",
    "        \n",
    "    memo[n]=count\n",
    "    return count\n"
   ]
  },
  {
   "cell_type": "code",
   "execution_count": 33,
   "id": "ff6fdf7b",
   "metadata": {},
   "outputs": [
    {
     "data": {
      "text/plain": [
       "6"
      ]
     },
     "execution_count": 33,
     "metadata": {},
     "output_type": "execute_result"
    }
   ],
   "source": [
    "f(5,{},[1,3,4])"
   ]
  },
  {
   "cell_type": "code",
   "execution_count": null,
   "id": "23c2e570",
   "metadata": {},
   "outputs": [],
   "source": []
  },
  {
   "cell_type": "code",
   "execution_count": null,
   "id": "5eb9a2d7",
   "metadata": {},
   "outputs": [],
   "source": []
  },
  {
   "cell_type": "code",
   "execution_count": null,
   "id": "bcf1942a",
   "metadata": {},
   "outputs": [],
   "source": []
  }
 ],
 "metadata": {
  "kernelspec": {
   "display_name": "base",
   "language": "python",
   "name": "python3"
  },
  "language_info": {
   "codemirror_mode": {
    "name": "ipython",
    "version": 3
   },
   "file_extension": ".py",
   "mimetype": "text/x-python",
   "name": "python",
   "nbconvert_exporter": "python",
   "pygments_lexer": "ipython3",
   "version": "3.13.5"
  }
 },
 "nbformat": 4,
 "nbformat_minor": 5
}
